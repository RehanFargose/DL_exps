{
 "cells": [
  {
   "cell_type": "code",
   "execution_count": null,
   "id": "22c8c716-0b90-48e4-9e34-4bae1394bbc2",
   "metadata": {},
   "outputs": [],
   "source": [
    "pip install sounddevice wavio speechrecognition scikit-learn\n"
   ]
  },
  {
   "cell_type": "code",
   "execution_count": null,
   "id": "e9e1225a-eb83-492f-a2d2-d5aaebbe14b1",
   "metadata": {},
   "outputs": [],
   "source": [
    "import tkinter as tk\n",
    "from tkinter import messagebox\n",
    "import sounddevice as sd\n",
    "import wavio\n",
    "import speech_recognition as sr\n",
    "from sklearn.pipeline import make_pipeline\n",
    "from sklearn.feature_extraction.text import TfidfVectorizer\n",
    "from sklearn.linear_model import LogisticRegression"
   ]
  },
  {
   "cell_type": "code",
   "execution_count": null,
   "id": "4a290fa0-9650-4c6e-a268-ea5867103f96",
   "metadata": {},
   "outputs": [],
   "source": [
    "# --- ML Model Setup ---\n",
    "phrases = [\"hey assistant\", \"hello\", \"hi bot\", \"wake up\", \"activate\",\n",
    "           \"what time is it\", \"tell me a joke\", \"how are you\", \"stop listening\", \"good morning\"]\n",
    "labels = [1, 1, 1, 1, 1, 0, 0, 0, 0, 0]\n",
    "model = make_pipeline(TfidfVectorizer(), LogisticRegression())\n",
    "model.fit(phrases, labels)"
   ]
  },
  {
   "cell_type": "code",
   "execution_count": null,
   "id": "985343cb-0c34-47d9-b0c4-66819aa62efd",
   "metadata": {},
   "outputs": [],
   "source": [
    "# --- Core Functions ---\n",
    "def record_audio(filename=\"recording.wav\", duration=5, fs=44100):\n",
    "    recording = sd.rec(int(duration * fs), samplerate=fs, channels=1)\n",
    "    sd.wait()\n",
    "    wavio.write(filename, recording, fs, sampwidth=2)"
   ]
  },
  {
   "cell_type": "code",
   "execution_count": null,
   "id": "4f44f9de-8c64-4445-92e2-9429cbe50fe2",
   "metadata": {},
   "outputs": [],
   "source": [
    "def transcribe_audio(filename=\"recording.wav\"):\n",
    "    recognizer = sr.Recognizer()\n",
    "    with sr.AudioFile(filename) as source:\n",
    "        audio = recognizer.record(source)\n",
    "    try:\n",
    "        return recognizer.recognize_google(audio)\n",
    "    except:\n",
    "        return \"\""
   ]
  },
  {
   "cell_type": "code",
   "execution_count": null,
   "id": "0941ea0e-4334-46b1-b23d-94fa0e19f7bf",
   "metadata": {},
   "outputs": [],
   "source": [
    "def detect_trigger(text):\n",
    "    if not text.strip():\n",
    "        return \"No speech detected.\"\n",
    "    prediction = model.predict([text])[0]\n",
    "    return \"✅ Trigger word detected!\" if prediction == 1 else \"❎ Not a trigger word.\"\n"
   ]
  },
  {
   "cell_type": "code",
   "execution_count": null,
   "id": "202132f6-6651-4695-ab2b-a6dfe3d6bec1",
   "metadata": {},
   "outputs": [],
   "source": [
    "def run_detection():\n",
    "    record_audio()\n",
    "    text = transcribe_audio()\n",
    "    result = detect_trigger(text)\n",
    "    messagebox.showinfo(\"Result\", f\"You said: {text}\\n\\n{result}\")\n"
   ]
  },
  {
   "cell_type": "code",
   "execution_count": null,
   "id": "a6af1387-ae82-48c4-9a0a-a5604d4dc019",
   "metadata": {},
   "outputs": [],
   "source": [
    "# --- GUI Setup ---\n",
    "root = tk.Tk()\n",
    "root.title(\"Trigger Word Detector\")\n",
    "\n",
    "tk.Label(root, text=\"🎤 Speak a command...\").pack(pady=10)\n",
    "tk.Button(root, text=\"Start Listening\", command=run_detection, width=25).pack(pady=10)\n",
    "tk.Label(root, text=\"(It will record for 5 seconds)\").pack(pady=5)\n",
    "\n",
    "root.mainloop()"
   ]
  },
  {
   "cell_type": "code",
   "execution_count": null,
   "id": "7ab79721-a355-4796-b717-2b4d49c790f3",
   "metadata": {},
   "outputs": [],
   "source": []
  },
  {
   "cell_type": "code",
   "execution_count": null,
   "id": "aabb685a-2ea3-4eae-a8a1-75a52832aebd",
   "metadata": {},
   "outputs": [],
   "source": []
  },
  {
   "cell_type": "code",
   "execution_count": null,
   "id": "ca9eadd3-bd00-4f8e-9f21-3af7ff516735",
   "metadata": {},
   "outputs": [],
   "source": []
  },
  {
   "cell_type": "code",
   "execution_count": null,
   "id": "b39f54aa-b17e-4aa2-a4b8-dab3f7eb1460",
   "metadata": {},
   "outputs": [],
   "source": []
  },
  {
   "cell_type": "code",
   "execution_count": null,
   "id": "986990c5-c328-4c29-900e-c6606d1c702b",
   "metadata": {},
   "outputs": [],
   "source": []
  },
  {
   "cell_type": "code",
   "execution_count": null,
   "id": "d4fd9580-d5e4-4014-9a94-093e168bc077",
   "metadata": {},
   "outputs": [],
   "source": []
  },
  {
   "cell_type": "code",
   "execution_count": null,
   "id": "a12cea60-d820-49a6-a616-de8bc273e2b3",
   "metadata": {},
   "outputs": [],
   "source": []
  },
  {
   "cell_type": "code",
   "execution_count": null,
   "id": "b4cf3042-6ba4-469e-b6b0-c96831299838",
   "metadata": {},
   "outputs": [],
   "source": []
  },
  {
   "cell_type": "code",
   "execution_count": null,
   "id": "9dd2f67b-4e5e-4b9d-94ee-f81f2fbd0ad4",
   "metadata": {},
   "outputs": [],
   "source": []
  },
  {
   "cell_type": "code",
   "execution_count": null,
   "id": "57fa1a0b-a755-4cab-8cc3-bf247ab0d60e",
   "metadata": {},
   "outputs": [],
   "source": []
  },
  {
   "cell_type": "code",
   "execution_count": null,
   "id": "6f929780-bdab-4045-8739-f327fc039ef0",
   "metadata": {},
   "outputs": [],
   "source": []
  }
 ],
 "metadata": {
  "kernelspec": {
   "display_name": "Python 3.10",
   "language": "python",
   "name": "python310"
  },
  "language_info": {
   "codemirror_mode": {
    "name": "ipython",
    "version": 3
   },
   "file_extension": ".py",
   "mimetype": "text/x-python",
   "name": "python",
   "nbconvert_exporter": "python",
   "pygments_lexer": "ipython3",
   "version": "3.10.0"
  }
 },
 "nbformat": 4,
 "nbformat_minor": 5
}
