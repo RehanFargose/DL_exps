{
 "cells": [
  {
   "cell_type": "code",
   "execution_count": 1,
   "id": "6b6db0b1-4c58-4f17-910f-144b251a1e2c",
   "metadata": {},
   "outputs": [],
   "source": [
    "# !pip install nbformat\n"
   ]
  },
  {
   "cell_type": "code",
   "execution_count": 2,
   "id": "1e40e588-2559-479a-81ef-85ad238e5af6",
   "metadata": {},
   "outputs": [],
   "source": [
    "import nbformat\n",
    "from pathlib import Path"
   ]
  },
  {
   "cell_type": "code",
   "execution_count": 4,
   "id": "2e705462-44c8-431f-a178-1c182d44d42c",
   "metadata": {},
   "outputs": [],
   "source": [
    "\n",
    "def merge_notebooks_with_sections(filenames, output_filename):\n",
    "    merged = nbformat.v4.new_notebook()\n",
    "    \n",
    "    for fname in filenames:\n",
    "        path = Path(fname)\n",
    "        if path.is_file():\n",
    "            with open(path, 'r', encoding='utf-8') as f:\n",
    "                nb = nbformat.read(f, as_version=4)\n",
    "                \n",
    "                # Add a section header (Markdown cell)\n",
    "                section_header = nbformat.v4.new_markdown_cell(f\"## Code for: `{fname}`\")\n",
    "                merged.cells.append(section_header)\n",
    "                \n",
    "                # Append all cells from the file\n",
    "                merged.cells.extend(nb.cells)\n",
    "        else:\n",
    "            print(f\"⚠️ File not found: {fname}\")\n",
    "    \n",
    "    with open(output_filename, 'w', encoding='utf-8') as f:\n",
    "        nbformat.write(merged, f)\n",
    "    \n",
    "    print(f\"✅ Merged notebook saved as: {output_filename}\")\n",
    "\n",
    "# # 🔧 Replace with your actual file names\n",
    "# merge_notebooks_with_sections(\n",
    "#     [\"Notebook1.ipynb\", \"Notebook2.ipynb\"], \n",
    "#     \"MergedNotebook.ipynb\"\n",
    "# )\n"
   ]
  },
  {
   "cell_type": "code",
   "execution_count": 5,
   "id": "c914a714-7a3d-4948-8d37-136489431b7f",
   "metadata": {},
   "outputs": [
    {
     "name": "stdout",
     "output_type": "stream",
     "text": [
      "✅ Merged notebook saved as: 242050006_DLMerged.ipynb\n"
     ]
    },
    {
     "name": "stderr",
     "output_type": "stream",
     "text": [
      "C:\\Users\\Lenovo\\rtgenv\\lib\\site-packages\\nbformat\\__init__.py:132: MissingIDFieldWarning: Cell is missing an id field, this will become a hard error in future nbformat versions. You may want to use `normalize()` on your notebooks before validations (available since nbformat 5.1.4). Previous versions of nbformat are fixing this issue transparently, and will stop doing so in the future.\n",
      "  validate(nb)\n"
     ]
    }
   ],
   "source": [
    "# Example: Replace with your notebook file names\n",
    "merge_notebooks_with_sections([\"DL1.ipynb\", \"DL2.ipynb\",\"DL3.ipynb\", \"DL4.ipynb\",\"DL5.ipynb\", \"DL6.ipynb\",\"DL7.ipynb\", \"DL8.ipynb\",\"DL9.ipynb\", \"DL10.ipynb\", \"DL11.ipynb\", \"DL12.ipynb\",], \"242050006_DLMerged.ipynb\")"
   ]
  },
  {
   "cell_type": "code",
   "execution_count": null,
   "id": "3f208e7b-e246-4381-b5b5-61e057c1509a",
   "metadata": {},
   "outputs": [],
   "source": []
  },
  {
   "cell_type": "code",
   "execution_count": null,
   "id": "db0dbc6d-9328-4844-bf1a-29f3e783b3d7",
   "metadata": {},
   "outputs": [],
   "source": []
  },
  {
   "cell_type": "code",
   "execution_count": null,
   "id": "168a9aff-b908-4772-85cf-0096041bbf13",
   "metadata": {},
   "outputs": [],
   "source": []
  },
  {
   "cell_type": "code",
   "execution_count": null,
   "id": "d6771d8f-a936-4624-8880-40c0778d5364",
   "metadata": {},
   "outputs": [],
   "source": []
  }
 ],
 "metadata": {
  "kernelspec": {
   "display_name": "Python 3 (ipykernel)",
   "language": "python",
   "name": "python3"
  },
  "language_info": {
   "codemirror_mode": {
    "name": "ipython",
    "version": 3
   },
   "file_extension": ".py",
   "mimetype": "text/x-python",
   "name": "python",
   "nbconvert_exporter": "python",
   "pygments_lexer": "ipython3",
   "version": "3.10.0"
  }
 },
 "nbformat": 4,
 "nbformat_minor": 5
}
