{
 "cells": [
  {
   "cell_type": "code",
   "execution_count": 1,
   "id": "f302cbe3-6fe0-4a5c-8b96-8132d58d5ecc",
   "metadata": {},
   "outputs": [
    {
     "name": "stdout",
     "output_type": "stream",
     "text": [
      "3.10.0 (tags/v3.10.0:b494f59, Oct  4 2021, 19:00:18) [MSC v.1929 64 bit (AMD64)]\n"
     ]
    }
   ],
   "source": [
    "import sys\n",
    "print(sys.version)"
   ]
  },
  {
   "cell_type": "code",
   "execution_count": 2,
   "id": "dab03119-598c-4ec6-85b5-879a09035f5a",
   "metadata": {},
   "outputs": [],
   "source": [
    "# #Step 1: Install Required Libraries\n",
    "# !pip install spacy\n",
    "# !python -m spacy download en_core_web_sm\n",
    "\n"
   ]
  },
  {
   "cell_type": "code",
   "execution_count": 3,
   "id": "8a2eaffd-b700-455c-aa7f-d3a1b7cf66d2",
   "metadata": {},
   "outputs": [],
   "source": [
    "# Named Entity Recognition using spaCy\n",
    "# Step 1: Import spaCy\n",
    "import spacy"
   ]
  },
  {
   "cell_type": "code",
   "execution_count": 4,
   "id": "4800808e-2d4d-4ba0-8894-2282ecb95023",
   "metadata": {},
   "outputs": [],
   "source": [
    "# Step 2: Load the English NLP model\n",
    "nlp = spacy.load(\"en_core_web_sm\")\n"
   ]
  },
  {
   "cell_type": "code",
   "execution_count": 10,
   "id": "65413af5-c749-4542-9d5a-258a83e5eae3",
   "metadata": {},
   "outputs": [
    {
     "name": "stdin",
     "output_type": "stream",
     "text": [
      "Enter a sentence for NER:  Elon Musk's Tesla (the United States) stock is more valuable than companies like Ford, Ferrari, Volkswage, BMW combined in the year 2025!\n"
     ]
    }
   ],
   "source": [
    "# Step 3: Take input from user\n",
    "user_input = input(\"Enter a sentence for NER: \")\n",
    "# Elon Musk's Tesla (the United States) stock is more valuable than companies like Ford, Ferrari, Volkswage, BMW combined in the year 2025!\n",
    "# Barack Obama was born in Hawaii and became the President of the United States in 2009.\n"
   ]
  },
  {
   "cell_type": "code",
   "execution_count": 11,
   "id": "0dfdce4e-8e6b-41ab-9c25-f17d9ed85f30",
   "metadata": {},
   "outputs": [],
   "source": [
    "# Step 4: Process the input text\n",
    "doc = nlp(user_input)\n"
   ]
  },
  {
   "cell_type": "code",
   "execution_count": 12,
   "id": "43a67e3d-35fd-490f-b5c0-962fdbd9c835",
   "metadata": {},
   "outputs": [
    {
     "name": "stdout",
     "output_type": "stream",
     "text": [
      "\n",
      "Named Entities and their Labels:\n",
      "----------------------------------\n",
      "Text: Elon Musk's\tLabel: PERSON\t(Start: 0, End: 11)\n",
      "Text: Tesla\tLabel: PERSON\t(Start: 12, End: 17)\n",
      "Text: the United States\tLabel: GPE\t(Start: 19, End: 36)\n",
      "Text: Ford\tLabel: ORG\t(Start: 81, End: 85)\n",
      "Text: Ferrari\tLabel: GPE\t(Start: 87, End: 94)\n",
      "Text: Volkswage\tLabel: ORG\t(Start: 96, End: 105)\n",
      "Text: BMW\tLabel: ORG\t(Start: 107, End: 110)\n",
      "Text: the year 2025\tLabel: DATE\t(Start: 123, End: 136)\n"
     ]
    }
   ],
   "source": [
    "# Step 5: Print named entities, their labels, and positions\n",
    "print(\"\\nNamed Entities and their Labels:\")\n",
    "print(\"----------------------------------\")\n",
    "for ent in doc.ents:\n",
    "    print(f\"Text: {ent.text}\\tLabel: {ent.label_}\\t(Start: {ent.start_char}, End: {ent.end_char})\")\n"
   ]
  },
  {
   "cell_type": "code",
   "execution_count": 8,
   "id": "72b9b3c1-eb80-4c16-a2fb-2686e4883391",
   "metadata": {},
   "outputs": [],
   "source": [
    "#\n"
   ]
  },
  {
   "cell_type": "code",
   "execution_count": 9,
   "id": "4a1a8ef0-41d0-48b2-b2e8-a7258d071e26",
   "metadata": {},
   "outputs": [],
   "source": [
    "#\n"
   ]
  }
 ],
 "metadata": {
  "kernelspec": {
   "display_name": "Python 3.10",
   "language": "python",
   "name": "python310"
  },
  "language_info": {
   "codemirror_mode": {
    "name": "ipython",
    "version": 3
   },
   "file_extension": ".py",
   "mimetype": "text/x-python",
   "name": "python",
   "nbconvert_exporter": "python",
   "pygments_lexer": "ipython3",
   "version": "3.10.0"
  }
 },
 "nbformat": 4,
 "nbformat_minor": 5
}
