{
 "cells": [
  {
   "cell_type": "code",
   "execution_count": 1,
   "id": "268f5ecb-8618-4537-93eb-edb242c544a8",
   "metadata": {},
   "outputs": [
    {
     "name": "stdout",
     "output_type": "stream",
     "text": [
      "Collecting datasets\n",
      "  Using cached datasets-3.5.1-py3-none-any.whl.metadata (19 kB)\n",
      "Requirement already satisfied: filelock in c:\\users\\lenovo\\appdata\\local\\packages\\pythonsoftwarefoundation.python.3.11_qbz5n2kfra8p0\\localcache\\local-packages\\python311\\site-packages (from datasets) (3.18.0)\n",
      "Requirement already satisfied: numpy>=1.17 in c:\\users\\lenovo\\appdata\\local\\packages\\pythonsoftwarefoundation.python.3.11_qbz5n2kfra8p0\\localcache\\local-packages\\python311\\site-packages (from datasets) (2.0.2)\n",
      "Requirement already satisfied: pyarrow>=15.0.0 in c:\\users\\lenovo\\appdata\\local\\packages\\pythonsoftwarefoundation.python.3.11_qbz5n2kfra8p0\\localcache\\local-packages\\python311\\site-packages (from datasets) (20.0.0)\n",
      "Collecting dill<0.3.9,>=0.3.0 (from datasets)\n",
      "  Using cached dill-0.3.8-py3-none-any.whl.metadata (10 kB)\n",
      "Requirement already satisfied: pandas in c:\\users\\lenovo\\appdata\\local\\packages\\pythonsoftwarefoundation.python.3.11_qbz5n2kfra8p0\\localcache\\local-packages\\python311\\site-packages (from datasets) (2.2.3)\n",
      "Requirement already satisfied: requests>=2.32.2 in c:\\users\\lenovo\\appdata\\local\\packages\\pythonsoftwarefoundation.python.3.11_qbz5n2kfra8p0\\localcache\\local-packages\\python311\\site-packages (from datasets) (2.32.3)\n",
      "Requirement already satisfied: tqdm>=4.66.3 in c:\\users\\lenovo\\appdata\\local\\packages\\pythonsoftwarefoundation.python.3.11_qbz5n2kfra8p0\\localcache\\local-packages\\python311\\site-packages (from datasets) (4.67.1)\n",
      "Collecting xxhash (from datasets)\n",
      "  Downloading xxhash-3.5.0-cp311-cp311-win_amd64.whl.metadata (13 kB)\n",
      "Collecting multiprocess<0.70.17 (from datasets)\n",
      "  Downloading multiprocess-0.70.16-py311-none-any.whl.metadata (7.2 kB)\n",
      "Collecting fsspec<=2025.3.0,>=2023.1.0 (from fsspec[http]<=2025.3.0,>=2023.1.0->datasets)\n",
      "  Using cached fsspec-2025.3.0-py3-none-any.whl.metadata (11 kB)\n",
      "Collecting aiohttp (from datasets)\n",
      "  Downloading aiohttp-3.11.18-cp311-cp311-win_amd64.whl.metadata (8.0 kB)\n",
      "Collecting huggingface-hub>=0.24.0 (from datasets)\n",
      "  Using cached huggingface_hub-0.30.2-py3-none-any.whl.metadata (13 kB)\n",
      "Requirement already satisfied: packaging in c:\\users\\lenovo\\appdata\\local\\packages\\pythonsoftwarefoundation.python.3.11_qbz5n2kfra8p0\\localcache\\local-packages\\python311\\site-packages (from datasets) (24.1)\n",
      "Requirement already satisfied: pyyaml>=5.1 in c:\\users\\lenovo\\appdata\\local\\packages\\pythonsoftwarefoundation.python.3.11_qbz5n2kfra8p0\\localcache\\local-packages\\python311\\site-packages (from datasets) (6.0.2)\n",
      "Collecting aiohappyeyeballs>=2.3.0 (from aiohttp->datasets)\n",
      "  Using cached aiohappyeyeballs-2.6.1-py3-none-any.whl.metadata (5.9 kB)\n",
      "Collecting aiosignal>=1.1.2 (from aiohttp->datasets)\n",
      "  Using cached aiosignal-1.3.2-py2.py3-none-any.whl.metadata (3.8 kB)\n",
      "Requirement already satisfied: attrs>=17.3.0 in c:\\users\\lenovo\\appdata\\local\\packages\\pythonsoftwarefoundation.python.3.11_qbz5n2kfra8p0\\localcache\\local-packages\\python311\\site-packages (from aiohttp->datasets) (24.3.0)\n",
      "Collecting frozenlist>=1.1.1 (from aiohttp->datasets)\n",
      "  Downloading frozenlist-1.6.0-cp311-cp311-win_amd64.whl.metadata (16 kB)\n",
      "Collecting multidict<7.0,>=4.5 (from aiohttp->datasets)\n",
      "  Downloading multidict-6.4.3-cp311-cp311-win_amd64.whl.metadata (5.5 kB)\n",
      "Collecting propcache>=0.2.0 (from aiohttp->datasets)\n",
      "  Downloading propcache-0.3.1-cp311-cp311-win_amd64.whl.metadata (11 kB)\n",
      "Collecting yarl<2.0,>=1.17.0 (from aiohttp->datasets)\n",
      "  Downloading yarl-1.20.0-cp311-cp311-win_amd64.whl.metadata (74 kB)\n",
      "     ---------------------------------------- 0.0/74.8 kB ? eta -:--:--\n",
      "     ---------------------------------------- 74.8/74.8 kB ? eta 0:00:00\n",
      "Requirement already satisfied: typing-extensions>=3.7.4.3 in c:\\users\\lenovo\\appdata\\local\\packages\\pythonsoftwarefoundation.python.3.11_qbz5n2kfra8p0\\localcache\\local-packages\\python311\\site-packages (from huggingface-hub>=0.24.0->datasets) (4.12.2)\n",
      "Requirement already satisfied: charset-normalizer<4,>=2 in c:\\users\\lenovo\\appdata\\local\\packages\\pythonsoftwarefoundation.python.3.11_qbz5n2kfra8p0\\localcache\\local-packages\\python311\\site-packages (from requests>=2.32.2->datasets) (3.4.0)\n",
      "Requirement already satisfied: idna<4,>=2.5 in c:\\users\\lenovo\\appdata\\local\\packages\\pythonsoftwarefoundation.python.3.11_qbz5n2kfra8p0\\localcache\\local-packages\\python311\\site-packages (from requests>=2.32.2->datasets) (3.10)\n",
      "Requirement already satisfied: urllib3<3,>=1.21.1 in c:\\users\\lenovo\\appdata\\local\\packages\\pythonsoftwarefoundation.python.3.11_qbz5n2kfra8p0\\localcache\\local-packages\\python311\\site-packages (from requests>=2.32.2->datasets) (2.2.3)\n",
      "Requirement already satisfied: certifi>=2017.4.17 in c:\\users\\lenovo\\appdata\\local\\packages\\pythonsoftwarefoundation.python.3.11_qbz5n2kfra8p0\\localcache\\local-packages\\python311\\site-packages (from requests>=2.32.2->datasets) (2024.8.30)\n",
      "Requirement already satisfied: colorama in c:\\users\\lenovo\\appdata\\local\\packages\\pythonsoftwarefoundation.python.3.11_qbz5n2kfra8p0\\localcache\\local-packages\\python311\\site-packages (from tqdm>=4.66.3->datasets) (0.4.6)\n",
      "Requirement already satisfied: python-dateutil>=2.8.2 in c:\\users\\lenovo\\appdata\\local\\packages\\pythonsoftwarefoundation.python.3.11_qbz5n2kfra8p0\\localcache\\local-packages\\python311\\site-packages (from pandas->datasets) (2.9.0.post0)\n",
      "Requirement already satisfied: pytz>=2020.1 in c:\\users\\lenovo\\appdata\\local\\packages\\pythonsoftwarefoundation.python.3.11_qbz5n2kfra8p0\\localcache\\local-packages\\python311\\site-packages (from pandas->datasets) (2025.2)\n",
      "Requirement already satisfied: tzdata>=2022.7 in c:\\users\\lenovo\\appdata\\local\\packages\\pythonsoftwarefoundation.python.3.11_qbz5n2kfra8p0\\localcache\\local-packages\\python311\\site-packages (from pandas->datasets) (2025.2)\n",
      "Requirement already satisfied: six>=1.5 in c:\\users\\lenovo\\appdata\\local\\packages\\pythonsoftwarefoundation.python.3.11_qbz5n2kfra8p0\\localcache\\local-packages\\python311\\site-packages (from python-dateutil>=2.8.2->pandas->datasets) (1.16.0)\n",
      "Using cached datasets-3.5.1-py3-none-any.whl (491 kB)\n",
      "Using cached dill-0.3.8-py3-none-any.whl (116 kB)\n",
      "Using cached fsspec-2025.3.0-py3-none-any.whl (193 kB)\n",
      "Downloading aiohttp-3.11.18-cp311-cp311-win_amd64.whl (443 kB)\n",
      "   ---------------------------------------- 0.0/443.7 kB ? eta -:--:--\n",
      "   ------------------------------------ -- 419.8/443.7 kB 13.2 MB/s eta 0:00:01\n",
      "   --------------------------------------- 443.7/443.7 kB 14.0 MB/s eta 0:00:00\n",
      "Using cached huggingface_hub-0.30.2-py3-none-any.whl (481 kB)\n",
      "Downloading multiprocess-0.70.16-py311-none-any.whl (143 kB)\n",
      "   ---------------------------------------- 0.0/143.5 kB ? eta -:--:--\n",
      "   ---------------------------------------- 143.5/143.5 kB 8.3 MB/s eta 0:00:00\n",
      "Downloading xxhash-3.5.0-cp311-cp311-win_amd64.whl (30 kB)\n",
      "Using cached aiohappyeyeballs-2.6.1-py3-none-any.whl (15 kB)\n",
      "Using cached aiosignal-1.3.2-py2.py3-none-any.whl (7.6 kB)\n",
      "Downloading frozenlist-1.6.0-cp311-cp311-win_amd64.whl (120 kB)\n",
      "   ---------------------------------------- 0.0/120.9 kB ? eta -:--:--\n",
      "   ---------------------------------------- 120.9/120.9 kB 7.4 MB/s eta 0:00:00\n",
      "Downloading multidict-6.4.3-cp311-cp311-win_amd64.whl (38 kB)\n",
      "Downloading propcache-0.3.1-cp311-cp311-win_amd64.whl (45 kB)\n",
      "   ---------------------------------------- 0.0/45.2 kB ? eta -:--:--\n",
      "   ---------------------------------------- 45.2/45.2 kB 2.3 MB/s eta 0:00:00\n",
      "Downloading yarl-1.20.0-cp311-cp311-win_amd64.whl (93 kB)\n",
      "   ---------------------------------------- 0.0/93.4 kB ? eta -:--:--\n",
      "   ---------------------------------------- 93.4/93.4 kB ? eta 0:00:00\n",
      "Installing collected packages: xxhash, propcache, multidict, fsspec, frozenlist, dill, aiohappyeyeballs, yarl, multiprocess, huggingface-hub, aiosignal, aiohttp, datasets\n",
      "  Attempting uninstall: fsspec\n",
      "    Found existing installation: fsspec 2025.3.2\n",
      "    Uninstalling fsspec-2025.3.2:\n",
      "      Successfully uninstalled fsspec-2025.3.2\n",
      "Successfully installed aiohappyeyeballs-2.6.1 aiohttp-3.11.18 aiosignal-1.3.2 datasets-3.5.1 dill-0.3.8 frozenlist-1.6.0 fsspec-2025.3.0 huggingface-hub-0.30.2 multidict-6.4.3 multiprocess-0.70.16 propcache-0.3.1 xxhash-3.5.0 yarl-1.20.0\n"
     ]
    },
    {
     "name": "stderr",
     "output_type": "stream",
     "text": [
      "\n",
      "[notice] A new release of pip is available: 24.0 -> 25.1\n",
      "[notice] To update, run: C:\\Users\\Lenovo\\AppData\\Local\\Microsoft\\WindowsApps\\PythonSoftwareFoundation.Python.3.11_qbz5n2kfra8p0\\python.exe -m pip install --upgrade pip\n"
     ]
    }
   ],
   "source": [
    "# pip install numpy pandas scikit-learn matplotlib\n",
    "# import sys\n",
    "# !{sys.executable} -m pip install datasets\n"
   ]
  },
  {
   "cell_type": "code",
   "execution_count": 2,
   "id": "b2094bc2-40fc-4914-b6b0-9a7a426385f8",
   "metadata": {},
   "outputs": [
    {
     "name": "stdout",
     "output_type": "stream",
     "text": [
      "Name: datasets\n",
      "Version: 3.5.1\n",
      "Summary: HuggingFace community-driven open-source library of datasets\n",
      "Home-page: https://github.com/huggingface/datasets\n",
      "Author: HuggingFace Inc.\n",
      "Author-email: thomas@huggingface.co\n",
      "License: Apache 2.0\n",
      "Location: C:\\Users\\Lenovo\\AppData\\Local\\Programs\\Python\\Python312\\Lib\\site-packages\n",
      "Requires: aiohttp, dill, filelock, fsspec, huggingface-hub, multiprocess, numpy, packaging, pandas, pyarrow, pyyaml, requests, tqdm, xxhash\n",
      "Required-by: \n"
     ]
    }
   ],
   "source": [
    "!pip show datasets"
   ]
  },
  {
   "cell_type": "code",
   "execution_count": 3,
   "id": "1faf4b46-a45b-42a3-9792-9e16fcddd6c5",
   "metadata": {},
   "outputs": [],
   "source": [
    "# Step 1: Imports\n",
    "import numpy as np\n",
    "import pandas as pd\n",
    "from sklearn.linear_model import LogisticRegression\n",
    "from sklearn.model_selection import train_test_split\n",
    "from sklearn.metrics import classification_report\n",
    "import matplotlib.pyplot as plt\n",
    "from datasets import load_dataset"
   ]
  },
  {
   "cell_type": "code",
   "execution_count": 4,
   "id": "fca85c05-2133-4c6f-b39e-b974b609dabc",
   "metadata": {},
   "outputs": [],
   "source": [
    "# Step 2: Load GloVe embeddings (50d version)\n",
    "def load_glove_embeddings(file_path=\"glove.6B.50d.txt\"):\n",
    "    embeddings_index = {}\n",
    "    with open(file_path, encoding='utf-8') as f:\n",
    "        for line in f:\n",
    "            values = line.split()\n",
    "            word = values[0]\n",
    "            vector = np.asarray(values[1:], dtype='float32')\n",
    "            embeddings_index[word] = vector\n",
    "    return embeddings_index"
   ]
  },
  {
   "cell_type": "code",
   "execution_count": 5,
   "id": "d9a78e1c-cdda-4948-9359-8d392626523f",
   "metadata": {},
   "outputs": [
    {
     "data": {
      "application/vnd.jupyter.widget-view+json": {
       "model_id": "0a4909d8b22b4adcac80924d9925f8bf",
       "version_major": 2,
       "version_minor": 0
      },
      "text/plain": [
       "README.md:   0%|          | 0.00/23.9k [00:00<?, ?B/s]"
      ]
     },
     "metadata": {},
     "output_type": "display_data"
    },
    {
     "data": {
      "application/vnd.jupyter.widget-view+json": {
       "model_id": "ad501ebd8a2f44848b40fc2a3fbe4023",
       "version_major": 2,
       "version_minor": 0
      },
      "text/plain": [
       "train-00000-of-00001.parquet:   0%|          | 0.00/2.61M [00:00<?, ?B/s]"
      ]
     },
     "metadata": {},
     "output_type": "display_data"
    },
    {
     "data": {
      "application/vnd.jupyter.widget-view+json": {
       "model_id": "1aa07e27db98457ba6534b45ec157ec0",
       "version_major": 2,
       "version_minor": 0
      },
      "text/plain": [
       "test-00000-of-00001.parquet:   0%|          | 0.00/3.05M [00:00<?, ?B/s]"
      ]
     },
     "metadata": {},
     "output_type": "display_data"
    },
    {
     "data": {
      "application/vnd.jupyter.widget-view+json": {
       "model_id": "5b91a3ca37f84ebfac0ab5aa255db016",
       "version_major": 2,
       "version_minor": 0
      },
      "text/plain": [
       "validation-00000-of-00001.parquet:   0%|          | 0.00/282k [00:00<?, ?B/s]"
      ]
     },
     "metadata": {},
     "output_type": "display_data"
    },
    {
     "data": {
      "application/vnd.jupyter.widget-view+json": {
       "model_id": "a4c6d53ef590444f82ba45f2daf5323f",
       "version_major": 2,
       "version_minor": 0
      },
      "text/plain": [
       "Generating train split:   0%|          | 0/45000 [00:00<?, ? examples/s]"
      ]
     },
     "metadata": {},
     "output_type": "display_data"
    },
    {
     "data": {
      "application/vnd.jupyter.widget-view+json": {
       "model_id": "ce1055bcacee49e9b700fd426bf6fed9",
       "version_major": 2,
       "version_minor": 0
      },
      "text/plain": [
       "Generating test split:   0%|          | 0/50000 [00:00<?, ? examples/s]"
      ]
     },
     "metadata": {},
     "output_type": "display_data"
    },
    {
     "data": {
      "application/vnd.jupyter.widget-view+json": {
       "model_id": "15f25bcfb1a544689b5899c3d4b5823a",
       "version_major": 2,
       "version_minor": 0
      },
      "text/plain": [
       "Generating validation split:   0%|          | 0/5000 [00:00<?, ? examples/s]"
      ]
     },
     "metadata": {},
     "output_type": "display_data"
    },
    {
     "name": "stdout",
     "output_type": "stream",
     "text": [
      "{'text': 'Sunday afternoon walking through Venice in the sun with @user ️ ️ ️ @ Abbot Kinney, Venice', 'label': 12}\n"
     ]
    },
    {
     "ename": "NameError",
     "evalue": "name 'data' is not defined",
     "output_type": "error",
     "traceback": [
      "\u001b[1;31m---------------------------------------------------------------------------\u001b[0m",
      "\u001b[1;31mNameError\u001b[0m                                 Traceback (most recent call last)",
      "Cell \u001b[1;32mIn[5], line 47\u001b[0m\n\u001b[0;32m      8\u001b[0m \u001b[38;5;28mprint\u001b[39m(dataset[\u001b[38;5;124m'\u001b[39m\u001b[38;5;124mtrain\u001b[39m\u001b[38;5;124m'\u001b[39m][\u001b[38;5;241m0\u001b[39m])\n\u001b[0;32m     11\u001b[0m \u001b[38;5;66;03m# data = {\u001b[39;00m\n\u001b[0;32m     12\u001b[0m \u001b[38;5;66;03m#     'text': [\u001b[39;00m\n\u001b[0;32m     13\u001b[0m \u001b[38;5;66;03m#         # ❤️ Love\u001b[39;00m\n\u001b[1;32m   (...)\u001b[0m\n\u001b[0;32m     42\u001b[0m \u001b[38;5;66;03m#     ]\u001b[39;00m\n\u001b[0;32m     43\u001b[0m \u001b[38;5;66;03m# }\u001b[39;00m\n\u001b[1;32m---> 47\u001b[0m df \u001b[38;5;241m=\u001b[39m pd\u001b[38;5;241m.\u001b[39mDataFrame(\u001b[43mdata\u001b[49m)\n",
      "\u001b[1;31mNameError\u001b[0m: name 'data' is not defined"
     ]
    }
   ],
   "source": [
    "# Step 3: Sample emoji-labeled dataset\n",
    "\n",
    "\n",
    "# This will download and cache the emoji dataset automatically\n",
    "dataset = load_dataset(\"tweet_eval\", \"emoji\")\n",
    "\n",
    "# Print first example from the training set\n",
    "print(dataset['train'][0])\n",
    "\n",
    "\n",
    "# data = {\n",
    "#     'text': [\n",
    "#         # ❤️ Love\n",
    "#         \"I love you\", \"You are my everything\", \"I'm in love\", \"She means so much to me\", \"Sending love\",\n",
    "        \n",
    "#         # 😍 Admiration\n",
    "#         \"This is amazing\", \"You're so talented\", \"That's beautiful\", \"I'm so impressed\", \"What a masterpiece\",\n",
    "        \n",
    "#         # 🎉 Celebration\n",
    "#         \"Let's go party\", \"Happy birthday\", \"We did it!\", \"That's a celebration\", \"Time to celebrate\",\n",
    "        \n",
    "#         # 😢 Sadness\n",
    "#         \"I am so sad\", \"Feeling heartbroken\", \"Tears are falling\", \"It's a bad day\", \"I'm crying\",\n",
    "        \n",
    "#         # 😠 Anger\n",
    "#         \"He is angry\", \"I can't stand this\", \"This is so annoying\", \"Why are you like this?\", \"I'm furious\",\n",
    "        \n",
    "#         # 🏆 Victory\n",
    "#         \"She won the match\", \"We are the champions\", \"Victory is ours\", \"I achieved my goal\", \"Hard work pays off\",\n",
    "        \n",
    "#         # 😤 Frustration\n",
    "#         \"I am frustrated\", \"Nothing is working\", \"So many obstacles\", \"This is exhausting\", \"I'm fed up\"\n",
    "#     ],\n",
    "#     'emoji': [\n",
    "#         \"❤️\", \"❤️\", \"❤️\", \"❤️\", \"❤️\",       # love\n",
    "#         \"😍\", \"😍\", \"😍\", \"😍\", \"😍\",       # admiration\n",
    "#         \"🎉\", \"🎉\", \"🎉\", \"🎉\", \"🎉\",       # celebration\n",
    "#         \"😢\", \"😢\", \"😢\", \"😢\", \"😢\",       # sadness\n",
    "#         \"😠\", \"😠\", \"😠\", \"😠\", \"😠\",       # anger\n",
    "#         \"🏆\", \"🏆\", \"🏆\", \"🏆\", \"🏆\",       # victory\n",
    "#         \"😤\", \"😤\", \"😤\", \"😤\", \"😤\"        # frustration\n",
    "#     ]\n",
    "# }\n",
    "\n",
    "\n",
    "\n",
    "df = pd.DataFrame(data)"
   ]
  },
  {
   "cell_type": "code",
   "execution_count": null,
   "id": "f2df0f90-7c5b-4533-9260-04f82a86d8fc",
   "metadata": {},
   "outputs": [],
   "source": [
    "# Step 4: Map emoji to numbers\n",
    "# emoji_to_label = {e: i for i, e in enumerate(df['emoji'].unique())}\n",
    "# label_to_emoji = {i: e for e, i in emoji_to_label.items()}\n",
    "# df['label'] = df['emoji'].map(emoji_to_label)\n",
    "\n",
    "label_to_emoji = {\n",
    "    0: \"❤\", 1: \"😂\", 2: \"😍\", 3: \"💕\", 4: \"🔥\", 5: \"😊\", 6: \"😎\",\n",
    "    7: \"😭\", 8: \"😢\", 9: \"👍\", 10: \"🙄\", 11: \"💔\", 12: \"🤔\",\n",
    "    13: \"😩\", 14: \"😡\", 15: \"😃\", 16: \"💖\", 17: \"😜\", 18: \"😁\", 19: \"👌\"\n",
    "}\n",
    "\n",
    "# Show example with emoji\n",
    "example = dataset['train'][0]\n",
    "print(f\"Sentence: {example['text']}\")\n",
    "print(f\"Emoji: {label_to_emoji[example['label']]}\")"
   ]
  },
  {
   "cell_type": "code",
   "execution_count": null,
   "id": "29b4c31f-b698-44b8-9f71-e931425482dd",
   "metadata": {},
   "outputs": [],
   "source": [
    "# Step 5: Sentence to average word vector\n",
    "def sentence_to_avg_vector(sentence, embeddings, dim=50):\n",
    "    words = sentence.lower().split()\n",
    "    valid_vectors = [embeddings[word] for word in words if word in embeddings]\n",
    "    if not valid_vectors:\n",
    "        return np.zeros(dim)\n",
    "    return np.mean(valid_vectors, axis=0)"
   ]
  },
  {
   "cell_type": "code",
   "execution_count": null,
   "id": "647a0368-d951-42ab-8fc6-5e31b91fa740",
   "metadata": {},
   "outputs": [],
   "source": [
    "# Step 6: Prepare training data\n",
    "print(\"Loading embeddings...\")\n",
    "embeddings_index = load_glove_embeddings(\"glove.6B.50d.txt\")  # Ensure this file is in your folder\n",
    "\n",
    "X = np.array([sentence_to_avg_vector(text, embeddings_index) for text in df['text']])\n",
    "y = df['label'].values"
   ]
  },
  {
   "cell_type": "code",
   "execution_count": null,
   "id": "84371c12-0716-471a-9d8d-7c01b93311a1",
   "metadata": {},
   "outputs": [],
   "source": [
    "# Step 7: Train classifier\n",
    "X_train, X_test, y_train, y_test = train_test_split(X, y, test_size=0.2, random_state=42)\n",
    "# clf = LogisticRegression(multi_class='multinomial', solver='lbfgs', max_iter=1000)\n",
    "# clf.fit(X_train, y_train)\n",
    "clf = LogisticRegression(solver='lbfgs', max_iter=1000)\n",
    "clf.fit(X_train, y_train)\n"
   ]
  },
  {
   "cell_type": "code",
   "execution_count": null,
   "id": "5b4bc681-2aba-4f00-83b3-e3eb52c5496d",
   "metadata": {},
   "outputs": [],
   "source": [
    "# Step 8: Evaluate\n",
    "y_pred = clf.predict(X_test)\n",
    "print(\"\\nClassification Report:\\n\")\n",
    "# print(classification_report(y_test, y_pred, target_names=[label_to_emoji[i] for i in sorted(label_to_emoji)]))\n",
    "# Define all possible class labels and names\n",
    "all_labels = sorted(label_to_emoji.keys())\n",
    "target_names = [label_to_emoji[i] for i in all_labels]\n",
    "\n",
    "print(classification_report(\n",
    "    y_test, y_pred,\n",
    "    labels=all_labels,\n",
    "    target_names=target_names,\n",
    "    zero_division=0  # or 1, depending on how you want to handle it\n",
    "))\n",
    "\n"
   ]
  },
  {
   "cell_type": "code",
   "execution_count": null,
   "id": "f5a7a2be-06a5-4159-a8c4-45e1bbc4780c",
   "metadata": {},
   "outputs": [],
   "source": [
    "# Step 9: Predict on user input\n",
    "def predict_emoji(sentence):\n",
    "    vec = sentence_to_avg_vector(sentence, embeddings_index)\n",
    "    pred = clf.predict([vec])[0]\n",
    "    return label_to_emoji[pred]"
   ]
  },
  {
   "cell_type": "code",
   "execution_count": null,
   "id": "bc556fbb-820c-45a8-931c-df519ff9dc5c",
   "metadata": {},
   "outputs": [],
   "source": [
    "# Step 10: Test user input\n",
    "while True:\n",
    "    sentence = input(\"Enter a sentence (or 'exit' to stop): \")\n",
    "    if sentence.lower() == 'exit':\n",
    "        break\n",
    "    print(\"Predicted Emoji:\", predict_emoji(sentence))"
   ]
  },
  {
   "cell_type": "code",
   "execution_count": null,
   "id": "9e77dfdc-ec50-4a9e-ad4b-8d587a53938c",
   "metadata": {},
   "outputs": [],
   "source": []
  },
  {
   "cell_type": "code",
   "execution_count": null,
   "id": "f1077164-7fd6-4bf1-9677-8b1d4e327c95",
   "metadata": {},
   "outputs": [],
   "source": []
  }
 ],
 "metadata": {
  "kernelspec": {
   "display_name": "Python 3 (ipykernel)",
   "language": "python",
   "name": "python3"
  },
  "language_info": {
   "codemirror_mode": {
    "name": "ipython",
    "version": 3
   },
   "file_extension": ".py",
   "mimetype": "text/x-python",
   "name": "python",
   "nbconvert_exporter": "python",
   "pygments_lexer": "ipython3",
   "version": "3.11.9"
  }
 },
 "nbformat": 4,
 "nbformat_minor": 5
}
