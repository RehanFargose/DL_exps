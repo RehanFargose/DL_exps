{
 "cells": [
  {
   "cell_type": "code",
   "execution_count": 1,
   "id": "0f71355c-045b-4871-ac85-bd922153dd6a",
   "metadata": {},
   "outputs": [],
   "source": [
    "# Install Required Libraries\n",
    "# !pip install tensorflow keras-tuner numpy scikit-learn matplotlib pillow\n",
    "import sys\n",
    "# !{sys.executable} -m pip install scikit-learn\n",
    "# !{sys.executable} -m pip install keras-tuner"
   ]
  },
  {
   "cell_type": "code",
   "execution_count": 2,
   "id": "58c627ce-a46c-47d5-94e4-3a0967c54ac0",
   "metadata": {},
   "outputs": [],
   "source": [
    "import numpy as np\n",
    "import tensorflow as tf\n",
    "import keras_tuner as kt\n",
    "from tensorflow import keras\n",
    "from PIL import Image, ImageOps\n",
    "import matplotlib.pyplot as plt\n",
    "from sklearn.model_selection import train_test_split\n",
    "import shutil\n",
    "import os"
   ]
  },
  {
   "cell_type": "code",
   "execution_count": 3,
   "id": "88ed9755-618b-4859-9924-bb993e715362",
   "metadata": {},
   "outputs": [],
   "source": [
    "# Load and Preprocess Dataset\n",
    "# Load dataset\n",
    "(x_train, y_train), (x_test, y_test) = keras.datasets.mnist.load_data()\n",
    "\n",
    "# Normalize and reshape\n",
    "x_train = x_train.reshape(-1, 28 * 28).astype(\"float32\") / 255.0\n",
    "x_test = x_test.reshape(-1, 28 * 28).astype(\"float32\") / 255.0\n",
    "\n",
    "# Split training set into training and validation sets\n",
    "x_train, x_val, y_train, y_val = train_test_split(\n",
    "    x_train, y_train, test_size=0.2, random_state=42\n",
    ")"
   ]
  },
  {
   "cell_type": "code",
   "execution_count": 4,
   "id": "69742777-a0bf-4c67-8d34-bc365abe6fe2",
   "metadata": {},
   "outputs": [],
   "source": [
    "# Define a Model Builder for Hyperparameter Tuning\n",
    "import keras_tuner as kt\n",
    "\n",
    "def build_model(hp):\n",
    "    model = keras.Sequential()\n",
    "    \n",
    "    # Input layer\n",
    "    model.add(keras.Input(shape=(784,)))\n",
    "    \n",
    "    # Hidden layers\n",
    "    for i in range(hp.Int('num_layers', 1, 3)):\n",
    "        model.add(\n",
    "            keras.layers.Dense(\n",
    "                units=hp.Int(f'units_{i}', min_value=64, max_value=256, step=64),\n",
    "                activation='relu',\n",
    "                kernel_regularizer=keras.regularizers.l2(hp.Choice('l2', [0.001, 0.0001]))\n",
    "            )\n",
    "        )\n",
    "        model.add(\n",
    "            keras.layers.Dropout(\n",
    "                rate=hp.Float(f'dropout_{i}', min_value=0.2, max_value=0.5, step=0.1)\n",
    "            )\n",
    "        )\n",
    "    \n",
    "    # Output layer\n",
    "    model.add(keras.layers.Dense(10, activation='softmax'))\n",
    "\n",
    "    # Compile the model\n",
    "    model.compile(\n",
    "        optimizer=keras.optimizers.Adam(\n",
    "            hp.Choice('learning_rate', [1e-2, 1e-3, 1e-4])\n",
    "        ),\n",
    "        loss='sparse_categorical_crossentropy',\n",
    "        metrics=['accuracy']\n",
    "    )\n",
    "    \n",
    "    return model\n"
   ]
  },
  {
   "cell_type": "code",
   "execution_count": 5,
   "id": "f66b280e-0e08-44b2-8588-906e7cb44694",
   "metadata": {},
   "outputs": [
    {
     "name": "stdout",
     "output_type": "stream",
     "text": [
      "Trial 10 Complete [00h 00m 53s]\n",
      "val_accuracy: 0.9035833477973938\n",
      "\n",
      "Best val_accuracy So Far: 0.9748333096504211\n",
      "Total elapsed time: 00h 09m 01s\n"
     ]
    },
    {
     "name": "stderr",
     "output_type": "stream",
     "text": [
      "C:\\Users\\Lenovo\\AppData\\Local\\Packages\\PythonSoftwareFoundation.Python.3.11_qbz5n2kfra8p0\\LocalCache\\local-packages\\Python311\\site-packages\\keras\\src\\saving\\saving_lib.py:757: UserWarning: Skipping variable loading for optimizer 'adam', because it has 2 variables whereas the saved optimizer has 18 variables. \n",
      "  saveable.load_own_variables(weights_store.get(inner_path))\n"
     ]
    }
   ],
   "source": [
    "# Perform Hyperparameter Tuning\n",
    "\n",
    "\n",
    "# Remove previous tuning logs if they exist\n",
    "if os.path.exists(\"my_dir/mnist_tuning\"):\n",
    "    shutil.rmtree(\"my_dir/mnist_tuning\")\n",
    "\n",
    "tuner = kt.RandomSearch(\n",
    "    build_model,\n",
    "    objective='val_accuracy',\n",
    "    max_trials=10,\n",
    "    executions_per_trial=1,\n",
    "    directory='my_dir',\n",
    "    project_name='mnist_tuning'\n",
    ")\n",
    "\n",
    "# Start search\n",
    "tuner.search(x_train, y_train, epochs=10, validation_data=(x_val, y_val))\n",
    "\n",
    "# Get best model\n",
    "best_model = tuner.get_best_models(num_models=1)[0]\n",
    "\n",
    "# To recompile with a fresh optimizer\n",
    "best_model.compile(optimizer='adam',\n",
    "                   loss='sparse_categorical_crossentropy',\n",
    "                   metrics=['accuracy'])"
   ]
  },
  {
   "cell_type": "code",
   "execution_count": 6,
   "id": "fc959bc9-fd91-471b-b1d3-51d6413d7813",
   "metadata": {},
   "outputs": [
    {
     "name": "stdout",
     "output_type": "stream",
     "text": [
      "\u001b[1m313/313\u001b[0m \u001b[32m━━━━━━━━━━━━━━━━━━━━\u001b[0m\u001b[37m\u001b[0m \u001b[1m1s\u001b[0m 2ms/step - accuracy: 0.9714 - loss: 0.1506    \n",
      "Test accuracy: 0.9763\n"
     ]
    }
   ],
   "source": [
    "# Evaluate and Use the Best Model\n",
    "test_loss, test_acc = best_model.evaluate(x_test, y_test)\n",
    "print(f\"Test accuracy: {test_acc:.4f}\")\n"
   ]
  },
  {
   "cell_type": "code",
   "execution_count": 7,
   "id": "aae5d887-4b75-42a7-90a1-e5e6054714d7",
   "metadata": {},
   "outputs": [],
   "source": [
    "# Save the model\n",
    "best_model.save('best_mnist_model.keras')\n",
    "\n"
   ]
  },
  {
   "cell_type": "code",
   "execution_count": 8,
   "id": "73194fa2-4339-48a3-a7c1-e11ec9aed9ef",
   "metadata": {},
   "outputs": [
    {
     "name": "stderr",
     "output_type": "stream",
     "text": [
      "C:\\Users\\Lenovo\\AppData\\Local\\Packages\\PythonSoftwareFoundation.Python.3.11_qbz5n2kfra8p0\\LocalCache\\local-packages\\Python311\\site-packages\\keras\\src\\saving\\saving_lib.py:757: UserWarning: Skipping variable loading for optimizer 'adam', because it has 18 variables whereas the saved optimizer has 2 variables. \n",
      "  saveable.load_own_variables(weights_store.get(inner_path))\n"
     ]
    }
   ],
   "source": [
    "# Load later\n",
    "model = keras.models.load_model('best_mnist_model.keras')\n",
    "\n",
    "# Recompile the model to avoid optimizer loading warning\n",
    "model.compile(optimizer='adam',\n",
    "              loss='sparse_categorical_crossentropy',\n",
    "              metrics=['accuracy'])"
   ]
  },
  {
   "cell_type": "code",
   "execution_count": 9,
   "id": "89aaa109-a649-40dd-aada-0ff97e2a6c18",
   "metadata": {},
   "outputs": [],
   "source": [
    "# #Preprocess functions\n",
    "def preprocess_user_image(path):\n",
    "    # Load and convert to grayscale\n",
    "    img = Image.open(path).convert('L')\n",
    "\n",
    "    # Invert colors: white digit on black bg -> black digit on white bg (MNIST-style)\n",
    "    img = ImageOps.invert(img)\n",
    "\n",
    "    # Resize while keeping aspect ratio, add padding to make it square (28x28)\n",
    "    img.thumbnail((20, 20), Image.Resampling.LANCZOS)\n",
    "    delta_w = 28 - img.size[0]\n",
    "    delta_h = 28 - img.size[1]\n",
    "    padding = (delta_w // 2, delta_h // 2, delta_w - delta_w // 2, delta_h - delta_h // 2)\n",
    "    img_padded = ImageOps.expand(img, padding, fill=0)\n",
    "\n",
    "    # Convert to numpy array, normalize\n",
    "    img_array = np.array(img_padded).astype(\"float32\") / 255.0\n",
    "\n",
    "    # Flatten\n",
    "    return img_array.reshape(1, 784), img_array\n"
   ]
  },
  {
   "cell_type": "code",
   "execution_count": 10,
   "id": "66d532b2-1dd2-4f2f-94e0-2fa06a6d274c",
   "metadata": {},
   "outputs": [
    {
     "data": {
      "image/png": "[encoded data removed]",
      "text/plain": [
       "<Figure size 640x480 with 1 Axes>"
      ]
     },
     "metadata": {},
     "output_type": "display_data"
    }
   ],
   "source": [
    "#\n",
    "# Example usage\n",
    "image_path = \"input5.png\"  # Replace with your image file\n",
    "# input_data = preprocess_image(image_path)\n",
    "input_data, vis_data = preprocess_user_image(\"input5.png\")\n",
    "\n",
    "plt.imshow(input_data.reshape(28, 28), cmap='gray')\n",
    "plt.title(\"Input to the Model\")\n",
    "plt.axis('off')\n",
    "plt.show()"
   ]
  },
  {
   "cell_type": "code",
   "execution_count": 11,
   "id": "cde8a1d5-35db-437f-b46b-96237edbe5f8",
   "metadata": {},
   "outputs": [
    {
     "name": "stdout",
     "output_type": "stream",
     "text": [
      "\u001b[1m1/1\u001b[0m \u001b[32m━━━━━━━━━━━━━━━━━━━━\u001b[0m\u001b[37m\u001b[0m \u001b[1m0s\u001b[0m 80ms/step\n",
      "Class probabilities: [[1.53886378e-01 4.81084629e-04 8.80190637e-04 6.37510233e-03\n",
      "  3.30696665e-02 5.30095279e-01 7.92985559e-02 6.74340967e-03\n",
      "  6.80493191e-02 1.21121034e-01]]\n",
      "Predicted digit: 5\n"
     ]
    }
   ],
   "source": [
    "# Print prediction probabilities:\n",
    "probs = best_model.predict(input_data)\n",
    "print(\"Class probabilities:\", probs)\n",
    "print(\"Predicted digit:\", np.argmax(probs))"
   ]
  },
  {
   "cell_type": "code",
   "execution_count": 12,
   "id": "78b9da17-38b1-4ad5-ac7f-124fc9872839",
   "metadata": {},
   "outputs": [
    {
     "name": "stdout",
     "output_type": "stream",
     "text": [
      "\u001b[1m1/1\u001b[0m \u001b[32m━━━━━━━━━━━━━━━━━━━━\u001b[0m\u001b[37m\u001b[0m \u001b[1m0s\u001b[0m 42ms/step\n",
      "Predicted digit: 5\n"
     ]
    }
   ],
   "source": [
    "#Predict\n",
    "prediction = best_model.predict(input_data)\n",
    "predicted_class = np.argmax(prediction)\n",
    "print(f\"Predicted digit: {predicted_class}\")"
   ]
  },
  {
   "cell_type": "code",
   "execution_count": 13,
   "id": "22239e97-565f-47cd-a6c2-c6c8562e0f88",
   "metadata": {},
   "outputs": [
    {
     "data": {
      "image/png": "[encoded data removed]",
      "text/plain": [
       "<Figure size 640x480 with 1 Axes>"
      ]
     },
     "metadata": {},
     "output_type": "display_data"
    }
   ],
   "source": [
    "# # Optional: show image\n",
    "# Visualize final input\n",
    "plt.imshow(vis_data, cmap='gray')\n",
    "plt.title(f\"Predicted: {np.argmax(probs)}\")\n",
    "plt.axis('off')\n",
    "plt.show()"
   ]
  },
  {
   "cell_type": "code",
   "execution_count": 14,
   "id": "f960a853-753c-437c-b9e1-3218fd2df411",
   "metadata": {},
   "outputs": [],
   "source": [
    "#\n"
   ]
  },
  {
   "cell_type": "code",
   "execution_count": null,
   "id": "22e802cc-dce5-488d-9ef4-f278ab40e955",
   "metadata": {},
   "outputs": [],
   "source": []
  }
 ],
 "metadata": {
  "kernelspec": {
   "display_name": "Python 3 (ipykernel)",
   "language": "python",
   "name": "python3"
  },
  "language_info": {
   "codemirror_mode": {
    "name": "ipython",
    "version": 3
   },
   "file_extension": ".py",
   "mimetype": "text/x-python",
   "name": "python",
   "nbconvert_exporter": "python",
   "pygments_lexer": "ipython3",
   "version": "3.11.9"
  }
 },
 "nbformat": 4,
 "nbformat_minor": 5
}
