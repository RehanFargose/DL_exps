{
 "cells": [
  {
   "cell_type": "code",
   "execution_count": 1,
   "id": "7e935010-e659-4ff3-9974-1a2ef687c0a5",
   "metadata": {},
   "outputs": [],
   "source": [
    "import numpy as np\n",
    "import tensorflow as tf\n",
    "from tensorflow import keras\n",
    "from tensorflow.keras.models import Sequential\n",
    "from tensorflow.keras.layers import Dense"
   ]
  },
  {
   "cell_type": "code",
   "execution_count": 2,
   "id": "a59eb665-f6c4-47a0-986d-7c8ad189c9a7",
   "metadata": {},
   "outputs": [],
   "source": [
    "# NAND gate dataset\n",
    "X = np.array([[0, 0], [0, 1], [1, 0], [1, 1]])  # Inputs\n",
    "Y = np.array([[1], [1], [1], [0]])  # Outputs\n"
   ]
  },
  {
   "cell_type": "code",
   "execution_count": 3,
   "id": "d46f5f7c-96f7-4a77-af13-5ed661e06c4d",
   "metadata": {},
   "outputs": [
    {
     "name": "stderr",
     "output_type": "stream",
     "text": [
      "C:\\Users\\Lenovo\\AppData\\Local\\Packages\\PythonSoftwareFoundation.Python.3.11_qbz5n2kfra8p0\\LocalCache\\local-packages\\Python311\\site-packages\\keras\\src\\layers\\core\\dense.py:87: UserWarning: Do not pass an `input_shape`/`input_dim` argument to a layer. When using Sequential models, prefer using an `Input(shape)` object as the first layer in the model instead.\n",
      "  super().__init__(activity_regularizer=activity_regularizer, **kwargs)\n"
     ]
    }
   ],
   "source": [
    "# Create a neural network model\n",
    "model = Sequential([\n",
    "    Dense(4, input_dim=2, activation='relu'),  # Hidden layer with 4 neurons\n",
    "    Dense(1, activation='sigmoid')  # Output layer\n",
    "])"
   ]
  },
  {
   "cell_type": "code",
   "execution_count": 4,
   "id": "f01c98d5-9f67-4154-b0da-23f9283c619d",
   "metadata": {},
   "outputs": [],
   "source": [
    "# Compile the model\n",
    "model.compile(optimizer='adam', loss='binary_crossentropy', metrics=['accuracy'])\n"
   ]
  },
  {
   "cell_type": "code",
   "execution_count": 5,
   "id": "cb0db655-e927-4a47-a271-46e39b45dab2",
   "metadata": {},
   "outputs": [
    {
     "data": {
      "text/plain": [
       "<keras.src.callbacks.history.History at 0x17be888da90>"
      ]
     },
     "execution_count": 5,
     "metadata": {},
     "output_type": "execute_result"
    }
   ],
   "source": [
    "# Train the model\n",
    "model.fit(X, Y, epochs=1000, verbose=0)"
   ]
  },
  {
   "cell_type": "code",
   "execution_count": 6,
   "id": "2b806c40-ee8c-40d7-a401-e338701be883",
   "metadata": {},
   "outputs": [
    {
     "name": "stdout",
     "output_type": "stream",
     "text": [
      "\u001b[1m1/1\u001b[0m \u001b[32m━━━━━━━━━━━━━━━━━━━━\u001b[0m\u001b[37m\u001b[0m \u001b[1m0s\u001b[0m 59ms/step\n"
     ]
    }
   ],
   "source": [
    "# Test the model\n",
    "predictions = model.predict(X)\n",
    "binary_predictions = (predictions > 0.5).astype(int)  # Convert probabilities to 0 or 1"
   ]
  },
  {
   "cell_type": "code",
   "execution_count": 7,
   "id": "5229f955-55a4-4ffe-849e-cd217d9dba0d",
   "metadata": {},
   "outputs": [
    {
     "name": "stdout",
     "output_type": "stream",
     "text": [
      "Input: [0 0], Predicted Output: 1\n",
      "Input: [0 1], Predicted Output: 1\n",
      "Input: [1 0], Predicted Output: 1\n",
      "Input: [1 1], Predicted Output: 0\n"
     ]
    }
   ],
   "source": [
    "# Display results\n",
    "for i in range(len(X)):\n",
    "    print(f\"Input: {X[i]}, Predicted Output: {binary_predictions[i][0]}\")"
   ]
  },
  {
   "cell_type": "code",
   "execution_count": null,
   "id": "30ea89e4-2701-48eb-bd2f-04fb13781f38",
   "metadata": {},
   "outputs": [],
   "source": []
  },
  {
   "cell_type": "code",
   "execution_count": null,
   "id": "2cb67b1d-081d-4926-8c2b-bca6453964eb",
   "metadata": {},
   "outputs": [],
   "source": []
  }
 ],
 "metadata": {
  "kernelspec": {
   "display_name": "Python 3 (ipykernel)",
   "language": "python",
   "name": "python3"
  },
  "language_info": {
   "codemirror_mode": {
    "name": "ipython",
    "version": 3
   },
   "file_extension": ".py",
   "mimetype": "text/x-python",
   "name": "python",
   "nbconvert_exporter": "python",
   "pygments_lexer": "ipython3",
   "version": "3.11.9"
  }
 },
 "nbformat": 4,
 "nbformat_minor": 5
}
