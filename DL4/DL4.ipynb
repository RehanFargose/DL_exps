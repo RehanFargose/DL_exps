{
 "cells": [
  {
   "cell_type": "code",
   "execution_count": 1,
   "id": "862c3d63-1fcd-4316-a9d3-6bcdb795b243",
   "metadata": {},
   "outputs": [],
   "source": [
    "# #Step 1: Install Required Libraries\n",
    "# !pip install tensorflow\n"
   ]
  },
  {
   "cell_type": "code",
   "execution_count": 2,
   "id": "e414b6f2-6029-4579-a6c5-276788198dce",
   "metadata": {},
   "outputs": [],
   "source": [
    "#Step 2: Import Libraries\n",
    "import numpy as np\n",
    "import tensorflow as tf\n",
    "from tensorflow.keras import layers, models\n",
    "from tensorflow.keras.datasets import mnist\n",
    "from tensorflow.keras.utils import to_categorical\n",
    "import matplotlib.pyplot as plt\n",
    "from tensorflow.keras.models import load_model\n",
    "from tensorflow.keras.preprocessing import image\n",
    "from PIL import Image"
   ]
  },
  {
   "cell_type": "code",
   "execution_count": 3,
   "id": "1540cc8e-c928-4dbd-b378-cbf638da90f6",
   "metadata": {},
   "outputs": [],
   "source": [
    "#Step 3: Load and Preprocess the Dataset\n",
    "# Load data\n",
    "(x_train, y_train), (x_test, y_test) = mnist.load_data()\n",
    "\n",
    "# Reshape to match CNN input (batch, height, width, channels)\n",
    "x_train = x_train.reshape((x_train.shape[0], 28, 28, 1)).astype('float32') / 255\n",
    "x_test = x_test.reshape((x_test.shape[0], 28, 28, 1)).astype('float32') / 255\n",
    "\n",
    "# One-hot encode labels\n",
    "y_train = to_categorical(y_train, 10)\n",
    "y_test = to_categorical(y_test, 10)\n"
   ]
  },
  {
   "cell_type": "code",
   "execution_count": 4,
   "id": "794ed1a0-474d-4285-b33f-9862f2f11d15",
   "metadata": {},
   "outputs": [],
   "source": [
    "#Step 4: Build the CNN Model\n",
    "model = models.Sequential([\n",
    "    layers.Input(shape=(28, 28, 1)),  # Recommended way to define input shape\n",
    "    layers.Conv2D(32, (3, 3), activation='relu'),\n",
    "    layers.MaxPooling2D((2, 2)),\n",
    "\n",
    "    layers.Conv2D(64, (3, 3), activation='relu'),\n",
    "    layers.MaxPooling2D((2, 2)),\n",
    "\n",
    "    layers.Flatten(),\n",
    "    layers.Dense(64, activation='relu'),\n",
    "    layers.Dense(10, activation='softmax')  # Output layer for 10 classes\n",
    "])\n",
    "\n"
   ]
  },
  {
   "cell_type": "code",
   "execution_count": 5,
   "id": "b5b27c98-b6f4-42c8-b1dd-c49d86b2882e",
   "metadata": {},
   "outputs": [],
   "source": [
    "#Step 5: Compile the Model\n",
    "model.compile(optimizer='adam',\n",
    "              loss='categorical_crossentropy',\n",
    "              metrics=['accuracy'])\n"
   ]
  },
  {
   "cell_type": "code",
   "execution_count": 6,
   "id": "a8e2d880-4b11-4606-9ec8-8177b27c4007",
   "metadata": {},
   "outputs": [
    {
     "name": "stdout",
     "output_type": "stream",
     "text": [
      "Epoch 1/5\n",
      "\u001b[1m844/844\u001b[0m \u001b[32m━━━━━━━━━━━━━━━━━━━━\u001b[0m\u001b[37m\u001b[0m \u001b[1m18s\u001b[0m 19ms/step - accuracy: 0.8738 - loss: 0.4177 - val_accuracy: 0.9780 - val_loss: 0.0717\n",
      "Epoch 2/5\n",
      "\u001b[1m844/844\u001b[0m \u001b[32m━━━━━━━━━━━━━━━━━━━━\u001b[0m\u001b[37m\u001b[0m \u001b[1m22s\u001b[0m 26ms/step - accuracy: 0.9809 - loss: 0.0605 - val_accuracy: 0.9858 - val_loss: 0.0491\n",
      "Epoch 3/5\n",
      "\u001b[1m844/844\u001b[0m \u001b[32m━━━━━━━━━━━━━━━━━━━━\u001b[0m\u001b[37m\u001b[0m \u001b[1m20s\u001b[0m 24ms/step - accuracy: 0.9876 - loss: 0.0406 - val_accuracy: 0.9877 - val_loss: 0.0447\n",
      "Epoch 4/5\n",
      "\u001b[1m844/844\u001b[0m \u001b[32m━━━━━━━━━━━━━━━━━━━━\u001b[0m\u001b[37m\u001b[0m \u001b[1m17s\u001b[0m 20ms/step - accuracy: 0.9909 - loss: 0.0287 - val_accuracy: 0.9902 - val_loss: 0.0366\n",
      "Epoch 5/5\n",
      "\u001b[1m844/844\u001b[0m \u001b[32m━━━━━━━━━━━━━━━━━━━━\u001b[0m\u001b[37m\u001b[0m \u001b[1m21s\u001b[0m 24ms/step - accuracy: 0.9937 - loss: 0.0196 - val_accuracy: 0.9905 - val_loss: 0.0314\n"
     ]
    },
    {
     "data": {
      "text/plain": [
       "<keras.src.callbacks.history.History at 0x1ee9d2fbc50>"
      ]
     },
     "execution_count": 6,
     "metadata": {},
     "output_type": "execute_result"
    }
   ],
   "source": [
    "#Step 6: Train the Model\n",
    "model.fit(x_train, y_train, epochs=5, batch_size=64, validation_split=0.1)\n",
    "\n"
   ]
  },
  {
   "cell_type": "code",
   "execution_count": 7,
   "id": "d9c038ab-7d5a-4087-b309-987e92fa2b0b",
   "metadata": {},
   "outputs": [
    {
     "name": "stdout",
     "output_type": "stream",
     "text": [
      "\u001b[1m313/313\u001b[0m \u001b[32m━━━━━━━━━━━━━━━━━━━━\u001b[0m\u001b[37m\u001b[0m \u001b[1m4s\u001b[0m 11ms/step - accuracy: 0.9881 - loss: 0.0355\n",
      "Test accuracy: 0.9901\n"
     ]
    }
   ],
   "source": [
    "#Step 7: Evaluate the Model\n",
    "test_loss, test_acc = model.evaluate(x_test, y_test)\n",
    "print(f\"Test accuracy: {test_acc:.4f}\")\n"
   ]
  },
  {
   "cell_type": "code",
   "execution_count": 8,
   "id": "d89120d0-0d2d-4c9a-ab31-168c8a6092c3",
   "metadata": {},
   "outputs": [],
   "source": [
    "# Optional: Save the Model\n",
    "model.save('mnist_cnn_model.keras')"
   ]
  },
  {
   "cell_type": "code",
   "execution_count": 9,
   "id": "753ecafa-c66a-4535-aeba-76f00a2ca101",
   "metadata": {},
   "outputs": [],
   "source": [
    "#Load the Trained Model\n",
    "model = load_model('mnist_cnn_model.keras')  # Use the path where you saved the model\n",
    "\n"
   ]
  },
  {
   "cell_type": "code",
   "execution_count": 12,
   "id": "88bb51f4-8eaa-4822-99ee-9719e9e8db29",
   "metadata": {},
   "outputs": [],
   "source": [
    "# Load and preprocess the image\n",
    "img = Image.open('input4.png').convert('L')  # Convert to grayscale\n",
    "img = img.resize((28, 28))  # Resize to 28x28\n",
    "img = np.array(img)\n",
    "img = 255 - img  # Invert colors: MNIST has white digits on black background\n",
    "img = img / 255.0  # Normalize pixel values\n",
    "img = img.reshape(1, 28, 28, 1)  # Reshape for model input"
   ]
  },
  {
   "cell_type": "code",
   "execution_count": 13,
   "id": "ebf39f03-754e-40d8-86f4-c9b46b2ec96b",
   "metadata": {},
   "outputs": [
    {
     "name": "stdout",
     "output_type": "stream",
     "text": [
      "\u001b[1m1/1\u001b[0m \u001b[32m━━━━━━━━━━━━━━━━━━━━\u001b[0m\u001b[37m\u001b[0m \u001b[1m0s\u001b[0m 257ms/step\n"
     ]
    }
   ],
   "source": [
    "## Predict the digit\n",
    "prediction = model.predict(img)\n",
    "predicted_digit = np.argmax(prediction)\n"
   ]
  },
  {
   "cell_type": "code",
   "execution_count": 14,
   "id": "b564a068-47a1-4b8e-9300-1782cd0bb5f3",
   "metadata": {},
   "outputs": [
    {
     "data": {
      "image/png": "[encoded data removed]",
      "text/plain": [
       "<Figure size 640x480 with 1 Axes>"
      ]
     },
     "metadata": {},
     "output_type": "display_data"
    }
   ],
   "source": [
    "## Display the image and prediction\n",
    "plt.imshow(img.reshape(28, 28), cmap='gray')\n",
    "plt.title(f\"Predicted Digit: {predicted_digit}\")\n",
    "plt.axis('off')\n",
    "plt.show()\n"
   ]
  },
  {
   "cell_type": "code",
   "execution_count": 15,
   "id": "053f2c4d-9bbf-4efb-b57d-b8aef46c3a18",
   "metadata": {},
   "outputs": [],
   "source": [
    "#\n"
   ]
  }
 ],
 "metadata": {
  "kernelspec": {
   "display_name": "Python 3 (ipykernel)",
   "language": "python",
   "name": "python3"
  },
  "language_info": {
   "codemirror_mode": {
    "name": "ipython",
    "version": 3
   },
   "file_extension": ".py",
   "mimetype": "text/x-python",
   "name": "python",
   "nbconvert_exporter": "python",
   "pygments_lexer": "ipython3",
   "version": "3.11.9"
  }
 },
 "nbformat": 4,
 "nbformat_minor": 5
}
